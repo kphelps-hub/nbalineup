{
 "cells": [
  {
   "cell_type": "code",
   "execution_count": 1,
   "id": "db8b61a6",
   "metadata": {},
   "outputs": [],
   "source": [
    "#Pulling data from pbpstats.com. \n",
    "#More information can be found: https://api.pbpstats.com/\n",
    "\n",
    "#load packages\n",
    "\n",
    "import requests\n",
    "import pandas as pd\n",
    "import numpy as np\n",
    "import time"
   ]
  },
  {
   "cell_type": "code",
   "execution_count": 5,
   "id": "681fb930",
   "metadata": {},
   "outputs": [],
   "source": [
    "#get players and ID's\n",
    "players_response = requests.get(\"https://api.pbpstats.com/get-all-players-for-league/nba\")\n",
    "players = players_response.json()"
   ]
  },
  {
   "cell_type": "code",
   "execution_count": 17,
   "id": "20d53b61",
   "metadata": {},
   "outputs": [],
   "source": [
    "#print list of players to csv\n",
    "player_id,player_name = zip(*players['players'].items())\n",
    "df = pd.DataFrame({'Player_Id': player_id, 'Player_Name': player_name})\n",
    "df.to_csv(\"players.csv\", index=False)"
   ]
  },
  {
   "cell_type": "code",
   "execution_count": 123,
   "id": "e76c3ebe",
   "metadata": {},
   "outputs": [],
   "source": [
    "#get the list of teams\n",
    "teams_response = requests.get(\"https://api.pbpstats.com/get-teams/nba\")\n",
    "teams = teams_response.json()\n",
    "\n",
    "#set up parameters for seasons. Data only goes back to 2000-2001\n",
    "seasons = []\n",
    "year_range = list(range(2000,2023))\n",
    "for year in year_range:\n",
    "    start_year = str(year)\n",
    "    end_year = str(year+1)\n",
    "    single_season = start_year + \"-\" + end_year[-2:]\n",
    "    seasons.append(single_season)\n",
    "    \n",
    "seasonTypes = [\"Regular Season\",\"Playoffs\"]"
   ]
  },
  {
   "cell_type": "code",
   "execution_count": 124,
   "id": "0c2a4f8c",
   "metadata": {},
   "outputs": [
    {
     "name": "stdout",
     "output_type": "stream",
     "text": [
      "Pulling data for Regular Season 2021-22\n",
      "Exceeded limit for BKN 2021-22 Regular Season\n",
      "Exceeded limit for CHI 2021-22 Regular Season\n",
      "Exceeded limit for CLE 2021-22 Regular Season\n",
      "Exceeded limit for DAL 2021-22 Regular Season\n",
      "Exceeded limit for DEN 2021-22 Regular Season\n",
      "Exceeded limit for DET 2021-22 Regular Season\n",
      "Exceeded limit for GSW 2021-22 Regular Season\n",
      "Exceeded limit for HOU 2021-22 Regular Season\n",
      "Exceeded limit for IND 2021-22 Regular Season\n",
      "Exceeded limit for LAC 2021-22 Regular Season\n",
      "Exceeded limit for LAL 2021-22 Regular Season\n",
      "Exceeded limit for MEM 2021-22 Regular Season\n",
      "Exceeded limit for MIL 2021-22 Regular Season\n",
      "Exceeded limit for NOP 2021-22 Regular Season\n",
      "Exceeded limit for OKC 2021-22 Regular Season\n",
      "Exceeded limit for ORL 2021-22 Regular Season\n",
      "Exceeded limit for PHI 2021-22 Regular Season\n",
      "Exceeded limit for POR 2021-22 Regular Season\n",
      "Exceeded limit for SAC 2021-22 Regular Season\n",
      "Exceeded limit for SAS 2021-22 Regular Season\n",
      "Exceeded limit for TOR 2021-22 Regular Season\n",
      "Exceeded limit for WAS 2021-22 Regular Season\n",
      "Succesfully completed lineup_data_2021-22_Regular Season.csv\n",
      "Pulling data for Playoffs 2021-22\n",
      "Succesfully completed lineup_data_2021-22_Playoffs.csv\n",
      "Pulling data for Regular Season 2022-23\n",
      "Exceeded limit for BKN 2022-23 Regular Season\n",
      "Exceeded limit for CHA 2022-23 Regular Season\n",
      "Exceeded limit for DAL 2022-23 Regular Season\n",
      "Exceeded limit for DET 2022-23 Regular Season\n",
      "Exceeded limit for GSW 2022-23 Regular Season\n",
      "Exceeded limit for IND 2022-23 Regular Season\n",
      "Exceeded limit for LAC 2022-23 Regular Season\n",
      "Exceeded limit for LAL 2022-23 Regular Season\n",
      "Exceeded limit for MEM 2022-23 Regular Season\n",
      "Exceeded limit for MIL 2022-23 Regular Season\n",
      "Exceeded limit for MIN 2022-23 Regular Season\n",
      "Exceeded limit for NOP 2022-23 Regular Season\n",
      "Exceeded limit for OKC 2022-23 Regular Season\n",
      "Exceeded limit for ORL 2022-23 Regular Season\n",
      "Exceeded limit for PHX 2022-23 Regular Season\n",
      "Exceeded limit for POR 2022-23 Regular Season\n",
      "Exceeded limit for SAS 2022-23 Regular Season\n",
      "Exceeded limit for TOR 2022-23 Regular Season\n",
      "Exceeded limit for UTA 2022-23 Regular Season\n",
      "Exceeded limit for WAS 2022-23 Regular Season\n",
      "Succesfully completed lineup_data_2022-23_Regular Season.csv\n",
      "Pulling data for Playoffs 2022-23\n",
      "Succesfully completed lineup_data_2022-23_Playoffs.csv\n"
     ]
    }
   ],
   "source": [
    "#Pulling the data. Can only pull 500 rows at a time, so subdivide by team and year\n",
    "\n",
    "url = \"https://api.pbpstats.com/get-totals/nba\"\n",
    "for season in seasons:\n",
    "    for seasonType in seasonTypes:\n",
    "        yearly_lineup_data = []\n",
    "        print(\"Pulling data for\",seasonType,season)\n",
    "        for team in teams[\"teams\"]:\n",
    "            teamId = str(team[\"id\"])\n",
    "            params = {\"Season\": season,\n",
    "                      \"SeasonType\": seasonType,\n",
    "                      \"Type\": \"Lineup\",\n",
    "                      \"TeamId\": teamId\n",
    "                     }\n",
    "            response = requests.get(url, params=params)\n",
    "            response_json = response.json()\n",
    "            lineup_stats = response_json[\"multi_row_table_data\"]\n",
    "            if len(lineup_stats)>=500:\n",
    "                print(\"Exceeded limit for\",team[\"text\"],season,seasonType)\n",
    "            yearly_lineup_data.extend(lineup_stats)\n",
    "            lag = np.random.uniform(low=5,high=10)\n",
    "            time.sleep(lag)\n",
    "        df = pd.DataFrame(yearly_lineup_data)\n",
    "        filepath = \"lineup_data_\" + season + \"_\" + seasonType + \".csv\"\n",
    "        df.to_csv(filepath, index=False)\n",
    "        print(\"Succesfully completed writing\",filepath)"
   ]
  },
  {
   "cell_type": "code",
   "execution_count": null,
   "id": "88dd58d1",
   "metadata": {},
   "outputs": [],
   "source": [
    "#now want to get player positions from NBA.com. \n",
    "\n"
   ]
  }
 ],
 "metadata": {
  "kernelspec": {
   "display_name": "Python 3 (ipykernel)",
   "language": "python",
   "name": "python3"
  },
  "language_info": {
   "codemirror_mode": {
    "name": "ipython",
    "version": 3
   },
   "file_extension": ".py",
   "mimetype": "text/x-python",
   "name": "python",
   "nbconvert_exporter": "python",
   "pygments_lexer": "ipython3",
   "version": "3.11.4"
  }
 },
 "nbformat": 4,
 "nbformat_minor": 5
}
